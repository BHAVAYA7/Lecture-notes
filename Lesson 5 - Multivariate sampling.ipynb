{
 "cells": [
  {
   "cell_type": "markdown",
   "metadata": {},
   "source": [
    "Author: Sean Tulin\n",
    "<br>\n",
    "Date: Jan. 31, 2021\n",
    "<br>\n",
    "PHYS 2030 W22"
   ]
  },
  {
   "cell_type": "markdown",
   "metadata": {},
   "source": [
    "# <font color=#46769B>Lesson 5: Multivariate sampling</font>\n",
    "\n",
    "## <font color=#46769B>Motivation</font>\n",
    "\n",
    "Probability distribution functions can depend on more than one variable at a time. So far we have focused on *univariate* PDFs, where each PDF $P(x)$ depends only on one variable $x$.\n",
    "We have seen problems involving more than one variable, say $x$ and $y$, but we were always able to sample each one *independently* from their own PDFs, e.g., $P_x(x)$ and $P_y(y)$.\n",
    "This situation is fine when two quantities are uncorrelated with each other, that is, the value of $x$ and $y$ are independent.\n",
    "\n",
    "In Exercise 6, for example, we randomly sampled the height $h$ that a cosmic ray collision occurred and the angle $\\theta$ of the cosmic ray's trajectory. \n",
    "Both quantities taken to be independent. The PDF for $h$ did not dependent on the sample measured for $\\theta$, nor did the PDF for $\\theta$ depend on the sample measured for $h$. \n",
    "\n",
    "However, one could argue that this was too simplistic. \n",
    "When $\\theta$ is large, the cosmic ray passes through more of the atmosphere to reach a certain height $h$ compared to when $\\theta$ is small (more straight down).\n",
    "Thus, it would be natural to expect that large-$\\theta$ collisions will occur higher in the atmostphere compared to small-$\\theta$ collisions.\n",
    "Larger values of $h$ are correlated with larger values of $\\theta$, while smaller values of $h$ are correlated with smaller values of $\\theta$.\n",
    "\n",
    "The correct way to handle this issue is take a *multivariate* PDF that depends on both quantities. Here we generalize our discussion to this case."
   ]
  },
  {
   "cell_type": "markdown",
   "metadata": {},
   "source": [
    "## <font color=#46769B>Basics of multivariate probability distributions</font>\n",
    "\n",
    "Suppose we have a PDF $P(x,y)$ that depends on two variables $x,y$. \n",
    "The quantity\n",
    "$$P(x,y) \\, dx \\, dy$$\n",
    "represents the probability of finding $x$ in the range $[x,x+dx]$ *and* $y$ in the range $[y,y+dy]$. The total probability of finding any value of $x$ and $y$ is $100\\%$, that is\n",
    "$$\\int_{-\\infty}^{\\infty} dx \\int_{-\\infty}^{\\infty} dy \\, P(x,y) = 1 \\, .$$\n",
    "The true mean values of $x$ and $y$ are\n",
    "$$\\mu_x = \\int_{-\\infty}^{\\infty} dx \\int_{-\\infty}^{\\infty} dy \\, x\\, P(x,y) \\, ,$$\n",
    "$$\\mu_y = \\int_{-\\infty}^{\\infty} dx \\int_{-\\infty}^{\\infty} dy \\, y\\, P(x,y) \\, .$$\n",
    "The true variances of $x$ and $y$ are\n",
    "$$\\Delta x^2 = \\int_{-\\infty}^{\\infty} dx \\int_{-\\infty}^{\\infty} dy \\, (x - \\mu_x)^2\\, P(x,y) \\, , $$\n",
    "$$\\Delta y^2  = \\int_{-\\infty}^{\\infty} dx \\int_{-\\infty}^{\\infty} dy \\, (y - \\mu_y)^2\\, P(x,y) \\, .$$\n",
    "The standard deviations are $\\Delta x = \\sqrt{\\Delta x^2}$ and $\\Delta y = \\sqrt{\\Delta y^2}$.\n",
    "\n",
    "Suppose we *are* able to sample from $P(x,y)$, generating samples\n",
    "$$(x_0, \\, x_1, \\, ... , \\, x_{N-1}) \\, , \\qquad (y_0, \\, y_1, \\, ... , \\, y_{N-1}) \\, .$$ \n",
    "The mean values of $x$ and $y$ are simply\n",
    "$$\\langle x \\rangle = \\frac{1}{N} \\sum_{i=0}^{N-1} x_i \\, ,$$\n",
    "$$\\langle y \\rangle = \\frac{1}{N} \\sum_{i=0}^{N-1} y_i \\, .$$\n",
    "In general, we can calculate the mean value of *any* function $f(x,y)$ as\n",
    "$$\\langle f(x,y) \\rangle = \\frac{1}{N} \\sum_{i=0}^{N-1} f(x_i,y_i) \\, . \\qquad {\\rm (1)}$$"
   ]
  },
  {
   "cell_type": "markdown",
   "metadata": {},
   "source": [
    "## <font color=#46769B>Sampling</font>\n",
    "\n",
    "If $x$ and $y$ are *uncorrelated* with each other (*independent* from each other), then we can factorize $P(x,y)$ by writing it as a product of two functions\n",
    "$$ P(x,y) = P_x(x) P_y(y)$$\n",
    "where $P_x(x)$ and $P_y(y)$ only depend on one variable separately. In this case, we just sample $x$ from $P_x(x)$ and likewise $y$ from $P_y(y)$.\n",
    "\n",
    "However, it may be the case that $x$ and $y$ are correlated with each other. For example, suppose larger values of $x$ are more probable when $y$ is large, and vice-versa. In some cases, we can *still* factorize a multivariate PDF into a product of univariate PDFs if we perform a change of variables. But in the general case, it is not possible.\n",
    "\n",
    "Importance sampling is a useful in the general case because we are free to choose the proposal distribution $Q(x,y)$. In particular, we can choose a *factorizable* PDF that can be written\n",
    "$$ Q(x,y) = Q_x(x) Q_y(y)$$\n",
    "that we know how to sample from. We draw $x$ from $Q_x(x)$ and $y$ from $Q_y(y)$. Then we calculate the weights\n",
    "$$w_i = \\frac{P(x_i,y_i)}{Q(x_i,y_i)} = \\frac{P(x_i,y_i)}{Q_x(x_i)Q_y(y_i)} \\, .$$\n",
    "Then we can calculate any mean value we like\n",
    "$$\\langle f(x,y) \\rangle = \\frac{1}{N} \\sum_{i=0}^{N-1} w_i f(x_i,y_i)$$\n",
    "as in Eq. (1) but with the appropriate weights.\n",
    "\n",
    "It is straightforward to generalize our discussion to an arbitrary number of variables, say, $x$, $y$, $z$, etc. \n",
    "\n",
    "We should pause to notice a __wonderful thing__ about Monte Carlo sampling. Suppose we have $d$ variables in our PDF, e.g., $P(x,y,z,...)$. To compute an expectation value of a function $f(x,y,z,...)$\n",
    "$$\\mathbb{E}_P[f(x,y,z,...)] = \\int_{-\\infty}^{\\infty} dx \\int_{-\\infty}^{\\infty} dy \\int_{-\\infty}^{\\infty} dz ... f(x,y,z,...) \\, P(x,y,z,...) $$\n",
    "we need to perform a $d$-dimensional integral. If it takes $N$ operations to perform a one-dimensional integral, naively it will take $N^d$ operations to perform a $d$-dimentional integral. This is the __curse of dimensionality__.\n",
    "\n",
    "On the other hand, to estimate the same quantity using Monte Carlo sampling (say, via importance sampling) we need only draw $N$ samples for each of the $d$ variables, compute each of the $N$ weights, and perform a sum over $N$ terms\n",
    "$$\\langle f(x,y,z,...) \\rangle = \\frac{1}{N} \\sum_{i=0}^{N-1} w_i f(x_i,y_i,z_i,...) \\, .$$\n",
    "In the end, the number of operations is $N$ times some modest factor, which is far, *far* smaller than $N^d$ if $d$ is more than a few."
   ]
  },
  {
   "cell_type": "markdown",
   "metadata": {},
   "source": [
    "## <font color=#46769B>Histograms</font>\n",
    "\n",
    "There is built-in function `matplotlib.pyplot.hist2d` that we will use to show 2D histograms. The syntax is\n",
    "```py\n",
    "import matplotlib.pyplot as plt\n",
    "plt.hist2D(x,y,weights=w)\n",
    "```\n",
    "where the keyword `weights` sets the weights for your samples.\n",
    "\n",
    "Here is a basic example to `hist2d` without weights. We sample $x$ and $y$ each from their own normal distributions (assuming they are independent). Feel free to adjust the means $\\mu_x, \\mu_y$, standard deviations $\\sigma_x,\\sigma_y$, and numbers of `bins` in the $x$ and $y$ directions."
   ]
  },
  {
   "cell_type": "code",
   "execution_count": 12,
   "metadata": {},
   "outputs": [
    {
     "data": {
      "image/png": "[encoded data removed]",
      "text/plain": [
       "<Figure size 432x432 with 1 Axes>"
      ]
     },
     "metadata": {
      "needs_background": "light"
     },
     "output_type": "display_data"
    }
   ],
   "source": [
    "import numpy as np\n",
    "import matplotlib.pyplot as plt\n",
    "\n",
    "num = 10**5\n",
    "\n",
    "mu_x, sigma_x = 2, 2\n",
    "x = np.random.normal(mu_x,sigma_x,num)\n",
    "\n",
    "mu_y, sigma_y = 0, 1\n",
    "y = np.random.normal(mu_y,sigma_y,num)\n",
    "\n",
    "# Adjust the figsize to make a square plot (equal axis ratios)\n",
    "plt.figure(figsize=(6,6))\n",
    "\n",
    "# Make a histogram\n",
    "# bins=[num_xbins,num_ybins]\n",
    "plt.hist2d(x,y,bins=[30,30])\n",
    "\n",
    "plt.xlabel('x')\n",
    "plt.ylabel('y')\n",
    "\n",
    "plt.show()"
   ]
  },
  {
   "cell_type": "markdown",
   "metadata": {},
   "source": [
    "## <font color=#46769B>Example: Importance sampling a multivariate distribution</font>\n",
    "\n",
    "Consider the following multivariate PDF:\n",
    "$$P(x,y) = \\frac{\\sqrt{7}}{8\\pi} \\exp\\left( - \\frac{1}{2}\\left( x^2 + \\frac{3}{2} x y + y^2 \\right) \\right)\\, .$$\n",
    "The peculiar factor in front is fixed by required that $\\int dx \\int dy \\, P(x,y) = 1$.\n",
    "The goal is to compute the mean values of $x$ and $y$, their standard deviations, and make a 2D histogram corresponding to $P(x,y)$.\n",
    "\n",
    "We can express this PDF as a product of three terms\n",
    "$$P(x,y) = \\frac{1}{\\sqrt{2 \\pi}} e^{- \\tfrac{x^2}{2} } \\times \\frac{1}{\\sqrt{2 \\pi}} e^{- \\tfrac{y^2}{2} }\n",
    "\\times \\frac{\\sqrt{7}}{4} e^{- \\tfrac{3}{4} x y} \\,. $$\n",
    "If we only had the first and second terms, we could factorize $P(x,y) = P_x(x) P_y(y)$ where $P_x$ and $P_y$ are both given by the same normal distribution $\\mathcal{N}(0,1)$.\n",
    "But since the third term depends on *both* $x$ and $y$, we cannot factorize $P(x,y)$ after all.\n",
    "\n",
    "Let's use importance sampling. We must guess *two* proposal distributions, $Q_x(x)$ and $Q_y(y)$. Motivated by the above discussion, let's choose normal distributions $\\mathcal{N}(0,\\sigma)$ for both. \n",
    "We will center $Q_x$ and $Q_y$ at zero, but we will keep the width $\\sigma$ as a free parameter in our sampling.\n",
    "\n",
    "Here is an outline of the code to follow:\n",
    "- Load functions for calculating weighted means and standard deviations\n",
    "- Defines PDFs: $P$, $Q_x$, $Q_y$\n",
    "- Calculates weights $w_i = \\frac{P(x_i,y_i)}{Q_x(x_i)Q_y(y_i)}$\n",
    "- Computes means and standard deviations of $x$ and $y$\n",
    "- Checks that $\\frac{1}{N}\\sum_{i=0}^{N-1} w_i \\approx 1$\n",
    "- Plots 2D histograms of $Q(x,y)$ and $P(x,y)$.\n",
    "\n",
    "Try changing $\\sigma$ for the proposal distributions and see what happens. (Even a good proposal distribution can turn bad!)\n"
   ]
  },
  {
   "cell_type": "code",
   "execution_count": 27,
   "metadata": {},
   "outputs": [
    {
     "name": "stdout",
     "output_type": "stream",
     "text": [
      "No weights:\n",
      "Mean and standard deviation of x are 0.0008386984984130269 and 1.9989791406898654\n",
      "Mean and standard deviation of y are 0.002135905993357337 and 1.9978373084332504\n",
      "\n",
      "\n",
      "With weights:\n",
      "Mean and standard deviation of x are -0.0008306307995993446 and 1.508916405546056\n",
      "Mean and standard deviation of y are 0.002591671412356674 and 1.5101233139021386\n",
      "\n",
      "\n",
      "Mean value of the weights should be close to 1: 1.000243228303858\n"
     ]
    },
    {
     "data": {
      "image/png": "[encoded data removed]",
      "text/plain": [
       "<Figure size 432x432 with 1 Axes>"
      ]
     },
     "metadata": {
      "needs_background": "light"
     },
     "output_type": "display_data"
    },
    {
     "data": {
      "image/png": "[encoded data removed]",
      "text/plain": [
       "<Figure size 432x432 with 1 Axes>"
      ]
     },
     "metadata": {
      "needs_background": "light"
     },
     "output_type": "display_data"
    }
   ],
   "source": [
    "# Functions for calculating weighted mean and standard deviation\n",
    "def mean(x,weights=None):\n",
    "    \n",
    "    if weights is not None:\n",
    "        return np.mean(weights*x)\n",
    "    else:\n",
    "        return np.mean(x)\n",
    "    \n",
    "def std(x,weights=None):\n",
    "    \n",
    "    if weights is not None:\n",
    "        return np.sqrt( np.mean(weights*x**2) - np.mean(weights*x)**2 )\n",
    "    else:\n",
    "        return np.std(x)\n",
    "\n",
    "# Define PDFs\n",
    "sigma = 2\n",
    "\n",
    "# P(x,y)\n",
    "def P(x,y):\n",
    "    return np.sqrt(7)/(8*np.pi) * np.exp(-0.5*(x**2 + 1.5*x*y + y**2))\n",
    "\n",
    "# Q_x(x)\n",
    "def Q_x(x):\n",
    "    return 1/np.sqrt(2*np.pi*sigma**2) * np.exp(-0.5*x**2/sigma**2)\n",
    "\n",
    "# Q_y(x)\n",
    "def Q_y(x):\n",
    "    return 1/np.sqrt(2*np.pi*sigma**2) * np.exp(-0.5*x**2/sigma**2)\n",
    "\n",
    "# Sample from Q_x and Q_y\n",
    "num = 10**6\n",
    "x_samples = np.random.normal(0,sigma,num)\n",
    "y_samples = np.random.normal(0,sigma,num)\n",
    "\n",
    "# Calculate weights\n",
    "w = P(x_samples,y_samples)/(Q_x(x_samples)*Q_y(y_samples))\n",
    "\n",
    "# Compute mean with no weights\n",
    "print('No weights:')\n",
    "print('Mean and standard deviation of x are', mean(x_samples), 'and', std(x_samples) )\n",
    "print('Mean and standard deviation of y are', mean(y_samples), 'and', std(y_samples) )\n",
    "\n",
    "print('\\n') # line break\n",
    "\n",
    "# Compute mean with weights\n",
    "print('With weights:')\n",
    "print('Mean and standard deviation of x are', mean(x_samples,weights=w), 'and', std(x_samples,weights=w) )\n",
    "print('Mean and standard deviation of y are', mean(y_samples,weights=w), 'and', std(y_samples,weights=w) )\n",
    "\n",
    "print('\\n') # line break\n",
    "\n",
    "# Check that the weights are normalized to 1\n",
    "print('Mean value of the weights should be close to 1:', np.mean(w))\n",
    "\n",
    "# Make histograms\n",
    "# Specify bins explicitly [xbins,ybins]\n",
    "bins = [np.linspace(-5,5), np.linspace(-5,5)]\n",
    "\n",
    "\n",
    "# Unweighted histogram\n",
    "plt.figure(figsize=(6,6))\n",
    "plt.hist2d(x_samples,y_samples,bins=bins)\n",
    "plt.title('Unweighted histogram of Q(x,y)')\n",
    "plt.xlabel('x')\n",
    "plt.ylabel('y')\n",
    "plt.show()\n",
    "\n",
    "# Weighted histogram\n",
    "plt.figure(figsize=(6,6))\n",
    "plt.hist2d(x_samples,y_samples,bins=bins,weights=w)\n",
    "plt.title('Weighted histogram of P(x,y)')\n",
    "plt.xlabel('x')\n",
    "plt.ylabel('y')\n",
    "plt.show()"
   ]
  },
  {
   "cell_type": "markdown",
   "metadata": {},
   "source": [
    "## <font color=#46769B>Correlation and covariance</font>\n",
    "\n",
    "The above example illustrates the principle of correlation. If $x$ is positive, $y$ is likely negative. If $y$ is positive, $x$ is likely negative. Since one variable often has the opposite sign to the other, it is likely that the product $x y$ should be negative. We can check this by making a histogram of the product $x y$.\n",
    "\n",
    "This histogram shows the probability density for having $x y$ equal to a certain value. Where the histogram is largest, it is more likely that $xy$ takes those values.\n"
   ]
  },
  {
   "cell_type": "code",
   "execution_count": 36,
   "metadata": {},
   "outputs": [
    {
     "data": {
      "image/png": "[encoded data removed]",
      "text/plain": [
       "<Figure size 432x288 with 1 Axes>"
      ]
     },
     "metadata": {
      "needs_background": "light"
     },
     "output_type": "display_data"
    }
   ],
   "source": [
    "# Specify bins explicity\n",
    "bins = np.linspace(-10,10)\n",
    "\n",
    "# Make unweighted and weighted histograms showing sampled values of x*y\n",
    "plt.hist(x_samples*y_samples,bins=bins,alpha=1,label='Unweighted (no correlation)',density=True)\n",
    "plt.hist(x_samples*y_samples,bins=bins,weights=w,alpha=0.5,label='Weighted (correlated)',density=True)\n",
    "\n",
    "plt.title(\"Histograms of x*y\")\n",
    "plt.legend()\n",
    "plt.show()"
   ]
  },
  {
   "cell_type": "markdown",
   "metadata": {},
   "source": [
    "Correlations between samples of different variables can be studied more systematically through a quantity known as the __covariance matrix__. The covariance matrix is a generalization of the usual variance.\n",
    "For the case of two variables $x$ and $y$, the covariance matrix is\n",
    "$$ \\mathcal{C} = \\left( \\begin{array}{cc} \\Delta x^2 & \\Delta xy \\\\ \\Delta xy & \\Delta y^2 \\end{array} \\right) \\, ,$$\n",
    "where $\\Delta x^2$ and $\\Delta y^2$ are the usual variance of $x$ and $y$, and\n",
    "$$\\Delta xy = \\sum_{i} \\left(x_i - \\langle x \\rangle\\right)\\left(y_i - \\langle y \\rangle\\right)$$\n",
    "quantifies the covariance. If $x$ and $y$ are *uncorrelated*, then $\\Delta xy =0$.\n",
    "For importance sampling, we have the same formulas including the weights $w_i$:\n",
    "$$\\Delta xy = \\sum_{i} w_i \\left(x_i - \\langle x \\rangle\\right)\\left(y_i - \\langle y \\rangle\\right)$$\n",
    "\n",
    "\n",
    "In a general, with $d$ variables to be sampled, the covariance matrix is a $d \\times d$ matrix. \n",
    "\n",
    "We mention the covariance matrix as a [topic](https://en.wikipedia.org/wiki/Covariance) of importance for the curious reader, though we will not discuss it much in this course. In practice, understanding the covariance between variables can often dramatically improve one's sampling algorithms. For example, in the 2D histogram for $P(x,y)$, it would make sense to sample with a narrow width along the $x=y$-diagonal, while sampling with a larger width along the $x=-y$ diagonal. This information is encoded by taking the eigenvalues and eigenvectors of the covariance matrix."
   ]
  },
  {
   "cell_type": "code",
   "execution_count": 43,
   "metadata": {},
   "outputs": [
    {
     "name": "stdout",
     "output_type": "stream",
     "text": [
      "Covariance matrix for unweighted samples (note C_xy is small)\n",
      "[[3.99592160e+00 2.12025147e-03]\n",
      " [2.12025147e-03 3.99135790e+00]]\n",
      "\n",
      "\n",
      "Covariance for weighted samples (note C_xy is large)\n",
      "[[ 2.27682872 -1.70753801]\n",
      " [-1.70753801  2.28047242]]\n"
     ]
    }
   ],
   "source": [
    "# Calculate the 2x2 covariance of our previous samples\n",
    "\n",
    "def cov_matrix(x,y,weights=None):\n",
    "    \n",
    "    if weights is not None:\n",
    "        x_mean = np.mean(weights*x)\n",
    "        y_mean = np.mean(weights*y)\n",
    "            \n",
    "        # Calculate each entry as a function\n",
    "        C_xx = np.mean(weights*(x-x_mean)**2)\n",
    "        C_yy = np.mean(weights*(y-y_mean)**2)\n",
    "        C_xy = np.mean(weights*(x-x_mean)*(y-y_mean))\n",
    "        \n",
    "        return np.array([[C_xx,C_xy],[C_xy,C_yy]])\n",
    "    \n",
    "    else:\n",
    "        # Use built-in numpy function\n",
    "        return np.cov(x,y)\n",
    "    \n",
    "print('Covariance matrix for unweighted samples (note C_xy is small)')\n",
    "print(cov_matrix(x_samples,y_samples))\n",
    "\n",
    "print('\\n')\n",
    "\n",
    "print('Covariance for weighted samples (note C_xy is large)')\n",
    "print(cov_matrix(x_samples,y_samples,weights=w))"
   ]
  },
  {
   "cell_type": "markdown",
   "metadata": {},
   "source": [
    "## <font color=#46769B>Marginalized distributions</font>\n",
    "\n",
    "In physical contexts, not all variables are created equal. Some variables, though you need to sample them in your analysis, might be uninteresting or unobservable. These are known as __nuisance parameters__.\n",
    "\n",
    "For example, in Exercise 6: Cosmic Ray Muons, the muon's angle $\\theta$ is a quantity that observers are interested to measure in their cosmic ray detectors. However, the height $h$ at which the muon was produced in the cosmic ray collision is a nuisance parameter since it is not directly measurable.\n",
    "\n",
    "Suppose we have a multivariate PDF $P(x,y)$ for two variables, $x$ and $y$. Suppose $y$ is a nuisance parameter and we are only interested in $x$. The __marginalized PDF__ is the PDF for the interesting variable $x$, namely\n",
    "$$P_x(x) = \\int dy \\, P(x,y)$$\n",
    "where the nuisance parameter $y$ has been averaged over. This step of integrating over $y$ is known as __marginalizing__.\n",
    "\n",
    "If $x$ and $y$ are uncorrelated, we can write $P(x,y) = P_x(x) P_y(y)$. Then the marginalized PDF for $x$ is simply\n",
    "$$P_x(x) = \\int dy \\, P(x,y) = \\int dy \\, P_x(x) \\, P_y(y) =  P_x(x) \\int dy \\, \\, P_y(y) = P_x(x) \\, ,$$\n",
    "namely just the univariate PDF for $x$. \n",
    "\n",
    "Let's compute the marginalized PDF $P_x(x)$ for the same PDF as before:\n",
    "$$P(x,y) = \\frac{\\sqrt{7}}{8\\pi} \\exp\\left( - \\frac{1}{2}\\left( x^2 + \\frac{3}{2} x y + y^2 \\right) \\right)\\, .$$\n",
    "We can compute $P_x(x)$ analytically (through a complicated Gaussian integral, we'll skip the details):\n",
    "$$P_x(x) = \\int dy \\, P(x,y) = \\sqrt{\\frac{7}{32\\pi}} e^{- \\frac{7 x^2}{32}} \\, .$$\n",
    "\n",
    "The main thing we want to illustrate is how to compute a histogram for $P_x(x)$ from our samples. Actually, it is very simple: just do a 1D histogram!\n",
    "\n",
    "So, always remember. If you have a multivariate PDF, and you are asked to find a histogram for the marginalized PDF for a single variable, just do the usual 1D histogram.\n"
   ]
  },
  {
   "cell_type": "code",
   "execution_count": 49,
   "metadata": {},
   "outputs": [
    {
     "data": {
      "image/png": "[encoded data removed]",
      "text/plain": [
       "<Figure size 432x288 with 1 Axes>"
      ]
     },
     "metadata": {
      "needs_background": "light"
     },
     "output_type": "display_data"
    }
   ],
   "source": [
    "# Specify bins\n",
    "bins = np.linspace(-5,5)\n",
    "\n",
    "# Histogram for marginalized PDF\n",
    "plt.hist(x_samples,bins=bins,weights=w,label='Marginalized PDF',density=True)\n",
    "\n",
    "# Show it agrees with the analytic result\n",
    "x = np.linspace(-5,5,num=100)\n",
    "P_x = np.sqrt(7/(32*np.pi)) * np.exp(-7*x**2/32)\n",
    "plt.plot(x,P_x,label='P_x(x)')\n",
    "\n",
    "plt.legend()\n",
    "plt.show()"
   ]
  },
  {
   "cell_type": "code",
   "execution_count": null,
   "metadata": {},
   "outputs": [],
   "source": []
  }
 ],
 "metadata": {
  "kernelspec": {
   "display_name": "Python 3",
   "language": "python",
   "name": "python3"
  },
  "language_info": {
   "codemirror_mode": {
    "name": "ipython",
    "version": 3
   },
   "file_extension": ".py",
   "mimetype": "text/x-python",
   "name": "python",
   "nbconvert_exporter": "python",
   "pygments_lexer": "ipython3",
   "version": "3.7.6"
  }
 },
 "nbformat": 4,
 "nbformat_minor": 4
}
