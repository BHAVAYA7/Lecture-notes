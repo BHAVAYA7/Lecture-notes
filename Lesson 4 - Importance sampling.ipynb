{
 "cells": [
  {
   "cell_type": "markdown",
   "metadata": {},
   "source": [
    "Author: Sean Tulin\n",
    "<br>\n",
    "Date: Jan. 26, 2021\n",
    "<br>\n",
    "PHYS 2030 W22"
   ]
  },
  {
   "cell_type": "markdown",
   "metadata": {},
   "source": [
    "# <center><font color=#46769B>Lesson 4: Importance Sampling</font></center>\n",
    "\n",
    "## <font color=#46769B>Motivation</font>\n",
    "\n",
    "We have studied several examples using *inverse CDF sampling* to sample from a probability distribution. \n",
    "This requires that we are able to integrate the PDF to compute the CDF, which is then inverted to obtain the inverse CDF $C^{-1}$. \n",
    "While this was accomplished analytically in our examples, for a general PDF it may not be possible to perform either of these steps analytically.\n",
    "In principle, one can use numerical integration and inversion algorithms to perform these tasks, but they may be numerically costly.\n",
    "\n",
    "There is also another limitation: so far, we have only considered *univariate* PDFs, i.e., $P(x)$ is a function of a single variable $x$. There can also be *multivariate* probability distributions, e.g., $P(x,y)$, a PDF that depends on two variables $x$ and $y$ and you want to sample *both* $x$ and $y$.\n",
    "\n",
    "We saw simple multivariate PDFs in Exercise 5. For instance, to compute the muon decay length $d$, we sampled $t$ from $P_t(t)$ and $E$ from $P_E(E)$. This is a (trivial) multivariate PDF: $$P(t,E) = P_t(t) P_E(E) \\, .$$\n",
    "That is, the joint multivariate PDF factorizes into a product of univariate PDFs, which can be sampled from individually.\n",
    "However, if a multivariate PDF cannot be factorized, we need another approach.\n",
    "\n",
    "## <font color=#46769B>Basic idea</font>\n",
    "\n",
    "Suppose we have a PDF $P(x)$ that we want to draw samples from. However, $P(x)$ is too complicated to use inverse CDF sampling.  The main idea of __importance sampling__ is: \n",
    "- Draw random samples for $x$ from a *different* PDF, labeled $Q(x)$, known as the *proposal distribution*:\n",
    "$$(x_0, \\, x_1, \\, ..., \\, x_{N-1}) \\, .$$\n",
    "Ideally, $Q(x)$ should be easy to sample from. It also needs to satisfy other properties (discussed below).\n",
    "- Calculate the weights\n",
    "$$ w_i = \\frac{P(x_i)}{Q(x_i)} $$\n",
    "for each sample of $x$. The quantity $P(x)/Q(x)$ is known as the *likelihood ratio*.\n",
    "- We calculate averages *by weighting each sample $x_i$ by its likelihood ratio $w_i$*. For example, the mean value of $x$ is\n",
    "$$\\langle x \\rangle = \\frac{1}{N} \\sum_{i=0}^{N-1} w_i \\, x_i \\, .$$\n",
    "The mean value of some arbitrary function $f(x)$ is\n",
    "$$\\langle f(x) \\rangle = \\frac{1}{N} \\sum_{i=0}^{N-1} w_i \\, f(x_i) \\, .$$\n",
    "\n",
    "Clearly, if $P(x) = Q(x)$, then we get back the usual results for computing a mean. Note $P(x)$ is known as the *target distribution*.\n",
    "Even though we are not sampling $x$ from $P(x)$ directly, by including the appropriate weights $w_i$ for each $x_i$, we can calculate any quantity as if we were.\n",
    "\n",
    "\n",
    "## <font color=#46769B>Mathematical proof</font>\n",
    "\n",
    "To prove this procedure works, let's introduce a bit of notation. Let $\\mathbb{E}_P[f(x)]$ denote the *true* mean (expected value) of a quantity $f(x)$, with respect to the PDF $P(x)$.<font color=red>$^1$</font> \n",
    " That is,\n",
    "$$\\mathbb{E}_P[f(x)] = \\int_{-\\infty}^{\\infty} dx \\, f(x) \\, P(x)\\, .$$\n",
    "We can insert $Q(x)/Q(x)$ under the integral:\n",
    "$$\\mathbb{E}_P[f(x)] = \\int_{-\\infty}^{\\infty} dx \\, f(x) \\, \\frac{P(x)}{Q(x)} Q(x) = \\int_{-\\infty}^{\\infty} dx \\, g(x)\\,  Q(x) = \\mathbb{E}_Q[g(x)] \\, . $$\n",
    "where $g(x) = f(x)P(x)/Q(x)$.\n",
    "\n",
    "Therefore, we can calculate the mean value of $g(x)$ by drawing samples from $Q$ and computing \n",
    "$$\\langle g(x) \\rangle = \\frac{1}{N} \\sum_{i=0}^{N-1} g(x_i) = \\frac{1}{N} \\sum_{i=0}^{N-1} w_i\\,  f(x_i) \\, ,$$ \n",
    "which approximates the true mean of $f(x)$ with respect to $P$.\n",
    "\n",
    "The weights satisfy the equation\n",
    "$$\\frac{1}{N} \\sum_{i=0}^{N-1} w_i \\approx 1 \\, , \\qquad {\\rm (1)}$$\n",
    "which becomes closer to $1$ as $N \\to \\infty$.\n",
    "We can derive this from the condition $\\mathbb{E}_P[1] = 1$, which is the statement that the PDF is normalized to unity.\n",
    "$$1 = \\mathbb{E}_P[1] = \\int_{-\\infty}^{\\infty} dx \\, 1 \\, P(x) = \\int_{-\\infty}^{\\infty} dx \\, \\frac{P(x)}{Q(x)} Q(x) =\\mathbb{E}_Q[P(x)/Q(x)]$$\n",
    "Sampling $x$ from $Q(x)$, we can calculate the \"mean value of 1\"\n",
    "$$\\langle 1 \\rangle = \\frac{1}{N} \\sum_{i=0}^{N-1} \\frac{P(x_i)}{Q(x_i)} = \\frac{1}{N} \\sum_{i=0}^{N-1} w_i \\, ,$$\n",
    "which should converge to the \"true\" value of $1$ for large $N$.\n",
    "\n",
    "## <font color=#46769B>Further comments</font>\n",
    "\n",
    "How do you select the proposal distribution $Q(x)$? There are two essential rules:\n",
    "- $Q(x)$ must itself be a valid PDF, i.e., normalized and non-negative.\n",
    "- $Q(x)$ must be nonzero for the entire range where $P(x)$ is nonzero. Otherwise, $Q(x)/Q(x) = 0/0$ for some region of the integral. \n",
    "\n",
    "In practice, nothing \"blows up\" if you do have $Q(x)$ go to zero where it should not. \n",
    "You are simply omitting some values of $x$ that should be there, and you will get the wrong results. (Note the converse need not be true. It is fine if $P(x)$ is zero even though $Q(x)$ is not. Such points $x_i$ will not contribute to any sums since their weights $w_i = P(x_i)/Q(x_i)$ will be zero.)\n",
    "\n",
    "Then, there are two *suggested* rules:\n",
    "- $Q(x)$ should not go to zero faster than $P(x)$ as, e.g., $x \\to \\pm \\infty$.\n",
    "- $Q(x)$ should not be small in the region where $P(x)$ is large.\n",
    "\n",
    "Effectively, you are infrequently sampling points $x_i$ from the proposal distribution that have large weights $w_i = P(x_i)/Q(x_i)$. Your results will be noisy (or worse) if such points are only sampled infrequently or not at all. In practice, this can be \"brute forced\" by just increasing $N$, but it is a poor use of computing resources.\n",
    "\n",
    "### <font color=#46769B>Footnotes</font>\n",
    "\n",
    "<font color=red>$^1$</font> For example, the true mean of $x$ is $\\mu = \\mathbb{E}_P[x]$. Note we make a distinction between the true mean of a given quantity, $\\mathbb{E}_P[f(x)]$, and the mean computed from Monte Carlo sampling, $\\langle f(x) \\rangle$, which is an approximation for the true mean in the limit of large $N$.\n"
   ]
  },
  {
   "cell_type": "markdown",
   "metadata": {},
   "source": [
    "## <font color=#46769B>Weights</font>\n",
    "\n",
    "Previously, we used `np.mean` and `np.std` to calculate the mean and standard deviations of our samples. Now, the situation is different since we must calculate *weighted* sums.\n",
    "The mean is\n",
    "$$\\langle x \\rangle = \\frac{1}{N} \\sum_{i=0}^{N-1} w_i x_i \\, .$$\n",
    "The variance is\n",
    "$$\\Delta x^2 = \\frac{1}{N} \\sum_{i=0}^{N-1} w_i \\left(x_i - \\langle x \\rangle\\right)^2 \\, .$$\n",
    "As before, one can show that $\\Delta x^2 = \\langle x^2 \\rangle - \\langle x \\rangle^2$, so we must calculate the *mean of the square of $x$*, which is\n",
    "$$\\langle x^2 \\rangle = \\frac{1}{N} \\sum_{i=0}^{N-1} w_i x_i^2 \\, .$$\n",
    "Lastly, the standard deviation is the square root of the variance, $\\Delta x = \\sqrt{\\Delta x^2}$.\n",
    "\n",
    "Let's write a code to calculate the mean and standard deviation with weights.\n",
    "\n",
    "Note the code below takes in the weights as a keyword. If no weights are entered, it returns the usual mean and standard deviation.\n"
   ]
  },
  {
   "cell_type": "code",
   "execution_count": 157,
   "metadata": {},
   "outputs": [],
   "source": [
    "def mean(x,weights=None):\n",
    "    \n",
    "    if weights is not None:\n",
    "        return np.mean(weights*x)\n",
    "    else:\n",
    "        return np.mean(x)\n",
    "    \n",
    "def std(x,weights=None):\n",
    "    \n",
    "    if weights is not None:\n",
    "        return np.sqrt( np.mean(weights*x**2) - np.mean(weights*x)**2 )\n",
    "    else:\n",
    "        return np.std(x)"
   ]
  },
  {
   "cell_type": "markdown",
   "metadata": {},
   "source": [
    "## <font color=#46769B>Example: Importance sampling with a good proposal distribution</font>\n",
    "\n",
    "Consider a simple example:\n",
    "$${\\rm target \\; distribution:} \\qquad P(x) = \\mathcal{N}(1,1)$$\n",
    "$${\\rm proposal \\; distribution:} \\qquad Q(x) = \\mathcal{N}(1.5,2)$$\n",
    "Recall, $\\mathcal{N}(\\mu,\\sigma)$ is our shorthand notation for a normal distribution centered at $\\mu$ with width $\\sigma$.\n",
    "\n",
    "We are choosing target and proposal distributions with different means and standard deviations.\n",
    "\n",
    "Here is a code that will implement these steps:\n",
    "- Sample points $x_i$ from $Q(x)$\n",
    "- Compute the weights $w_i$\n",
    "- Compute weighted and unweighted means and standard deviations\n",
    "- Plot histograms to see our results. Note `plt.hist` has a keyword `weights` that will allow us to attach weights to each value in the sample.\n",
    "\n",
    "The takeaway from below is that including the weights reproduces what we expect if we had sampled from $P$ directly. Not including weights just gives results from sampling from $Q$, which is what we did.\n",
    "\n",
    "Try changing $\\mu$ and $\\sigma$ for the proposal distribution and see what happens. (Even a good proposal distribution can turn bad!)\n"
   ]
  },
  {
   "cell_type": "code",
   "execution_count": 159,
   "metadata": {},
   "outputs": [
    {
     "name": "stdout",
     "output_type": "stream",
     "text": [
      "No weights: returns mean and standard deviations for Q\n",
      "Mean and standard deviation are 1.5026675963019156 and 1.9998262262703494\n",
      "\n",
      "\n",
      "With weights: returns mean and standard deviations for P\n",
      "Mean and standard deviation are 1.0006410215326655 and 0.9997074366296141\n",
      "\n",
      "\n",
      "Mean value of the weights should be close to 1: 0.9999316205721649\n"
     ]
    },
    {
     "data": {
      "image/png": "[encoded data removed]",
      "text/plain": [
       "<Figure size 432x288 with 1 Axes>"
      ]
     },
     "metadata": {
      "needs_background": "light"
     },
     "output_type": "display_data"
    }
   ],
   "source": [
    "import numpy as np\n",
    "import matplotlib.pyplot as plt\n",
    "\n",
    "# Define PDFs\n",
    "\n",
    "# P(x)\n",
    "mu_P, sigma_P = 1, 1\n",
    "def P(x):\n",
    "    return 1/np.sqrt(2*np.pi*sigma_P**2) * np.exp(-0.5*(x-mu_P)**2/sigma_P**2)\n",
    "\n",
    "# Q(x)\n",
    "mu_Q, sigma_Q = 1.5, 2\n",
    "def Q(x):\n",
    "    return 1/np.sqrt(2*np.pi*sigma_Q**2) * np.exp(-0.5*(x-mu_Q)**2/sigma_Q**2)\n",
    "\n",
    "# Sample from Q(x)\n",
    "num = 10**6\n",
    "x_samples = np.random.normal(mu_Q,sigma_Q,num)\n",
    "\n",
    "# Calculate weights\n",
    "w = P(x_samples)/Q(x_samples)\n",
    "\n",
    "# Compute mean with no weights\n",
    "print('No weights: returns mean and standard deviations for Q')\n",
    "print('Mean and standard deviation are', mean(x_samples), 'and', std(x_samples) )\n",
    "\n",
    "print('\\n') # line break\n",
    "\n",
    "# Compute mean with weights\n",
    "print('With weights: returns mean and standard deviations for P')\n",
    "print('Mean and standard deviation are', mean(x_samples,weights=w), 'and', std(x_samples,weights=w) )\n",
    "\n",
    "print('\\n') # line break\n",
    "\n",
    "# Check that the weights are normalized to 1\n",
    "print('Mean value of the weights should be close to 1:', np.mean(w))\n",
    "\n",
    "\n",
    "# Histograms\n",
    "\n",
    "# Unweighted histogram (histogram for Q)\n",
    "plt.hist(x_samples,bins=40,alpha=0.5,density=True,label='Unweighted samples')\n",
    "\n",
    "# Weighted histogram (histogram for P)\n",
    "plt.hist(x_samples,bins=40,alpha=0.5,weights=w,density=True,label='Weighted samples')\n",
    "\n",
    "# Plots\n",
    "x = np.linspace(-8,10,num=100)\n",
    "plt.plot(x,Q(x),label='Q(x)',color='blue')\n",
    "plt.plot(x,P(x),label='P(x)',color='darkorange')\n",
    "\n",
    "plt.legend()\n",
    "plt.show()"
   ]
  },
  {
   "cell_type": "markdown",
   "metadata": {},
   "source": [
    "## <font color=#46769B>Example: Importance sampling with bad proposal distribution</font>\n",
    "\n",
    "Consider the same target distribution $P(x) = \\mathcal{N}(1,1)$, but a different proposal distribution $Q(x)$:\n",
    "$${\\rm proposal \\; distribution:} \\qquad Q(x) \n",
    "=  \\left\\{ \\begin{array}{cc} \\frac{1}{2} & {\\rm for} \\; 0 \\le x \\le 2 \\\\ 0 & {\\rm otherwise} \\end{array} \\right.\\, .$$\n",
    "That is, $Q(x)$ is a uniform distribution over the interval $[0,2]$. This is a bad choice since $Q(x)$ goes to zero outside this interval while $P(x)$ does not. Let's see what happens.\n",
    "\n",
    "Some take aways:\n",
    "- Values of $x$ where $Q(x) = 0$ do not get sampled, so it is impossible to reproduce the true PDF there.\n",
    "- The sum of the weights is no longer approximately $1$.\n",
    "- The values of the mean and standard deviation no longer approximate their true values."
   ]
  },
  {
   "cell_type": "code",
   "execution_count": 160,
   "metadata": {},
   "outputs": [
    {
     "name": "stdout",
     "output_type": "stream",
     "text": [
      "Mean and standard deviation are 0.6821367202630146 and 0.6446156649357464\n",
      "Mean value of the weights should be close to 1: 0.6824959771036194\n"
     ]
    },
    {
     "data": {
      "image/png": "[encoded data removed]",
      "text/plain": [
       "<Figure size 432x288 with 1 Axes>"
      ]
     },
     "metadata": {
      "needs_background": "light"
     },
     "output_type": "display_data"
    }
   ],
   "source": [
    "# Define PDFs\n",
    "\n",
    "# P(x)\n",
    "mu_P, sigma_P = 1, 1\n",
    "def P(x):\n",
    "    return 1/np.sqrt(2*np.pi*sigma_P**2) * np.exp(-0.5*(x-mu_P)**2/sigma_P**2)\n",
    "\n",
    "# Q(x)\n",
    "def Q(x):\n",
    "    return np.where( (x >= 0) & (x <= 2), 0.5, 0)\n",
    "    \n",
    "# Sample from Q(x)\n",
    "num = 10**6\n",
    "x_samples = 2*np.random.rand(num)\n",
    "\n",
    "# Calculate weights\n",
    "w = P(x_samples)/Q(x_samples)\n",
    "\n",
    "# Compute mean with weights\n",
    "print('Mean and standard deviation are', mean(x_samples,weights=w), 'and', std(x_samples,weights=w) )\n",
    "print('Mean value of the weights should be close to 1:', np.mean(w))\n",
    "\n",
    "# Weighted histogram (histogram for P)\n",
    "plt.hist(x_samples,bins=40,alpha=0.5,weights=w,density=True,label='Weighted samples',color='darkorange')\n",
    "\n",
    "# Plots\n",
    "x = np.linspace(-3,5,num=100)\n",
    "plt.plot(x,P(x),label='P(x)',color='darkorange')\n",
    "\n",
    "plt.legend()\n",
    "plt.show()"
   ]
  },
  {
   "cell_type": "markdown",
   "metadata": {},
   "source": [
    "## <font color=#46769B>Example: One-sided Gaussian</font>\n",
    "\n",
    "Suppose we want to draw samples from the following PDF\n",
    "$$P(x) = \\left\\{ \\begin{array}{cc} \\sqrt{\\frac{2}{\\pi}} \\, e^{- \\frac{x^2}{2} } & {\\rm for} \\; x \\ge 0 \\\\\n",
    "0 & {\\rm otherwise} \\end{array} \\right. \\, ,$$\n",
    "which is half of a Gaussian with $\\mu=0$ and $\\sigma=1$.\n",
    "One method to solve this problem is just to sample from a full Gaussian $\\mathcal{N}(0,1)$ and take the absolute value for each $x$ sample. \n",
    "\n",
    "Here we will use importance sampling, using an exponential proposal distribution\n",
    "$$Q(x) = \\left\\{ \\begin{array}{cc} a \\, e^{- ax } & {\\rm for} \\; x \\ge 0 \\\\\n",
    "0 & {\\rm otherwise} \\end{array} \\right. \\, ,$$\n",
    "where $a$ is a constant that we are free to choose ourselves. Below I set $a=1$, but try choosing, e.g., $a=0.01$ or $a=100$, to see what happens.\n"
   ]
  },
  {
   "cell_type": "code",
   "execution_count": 163,
   "metadata": {},
   "outputs": [
    {
     "data": {
      "image/png": "[encoded data removed]",
      "text/plain": [
       "<Figure size 432x288 with 1 Axes>"
      ]
     },
     "metadata": {
      "needs_background": "light"
     },
     "output_type": "display_data"
    }
   ],
   "source": [
    "num = 10**5\n",
    "a = 0.01\n",
    "\n",
    "def P(x):\n",
    "    return np.sqrt(2/np.pi)*np.exp(-0.5*x**2)\n",
    "\n",
    "def Q(x):\n",
    "    return a*np.exp(-a*x)\n",
    "\n",
    "def sample_x_from_Q(num):\n",
    "    r = np.random.rand(num)\n",
    "    x = -1/a * np.log(1-r)\n",
    "    return x\n",
    "\n",
    "x_samples = sample_x_from_Q(num)\n",
    "w = P(x_samples)/Q(x_samples)\n",
    "\n",
    "# define bins explicitly\n",
    "bins = np.linspace(0,5)\n",
    "\n",
    "plt.hist(x_samples,weights=w,density=True,bins=bins,label='Samples')\n",
    "\n",
    "x = np.linspace(0,5)\n",
    "plt.plot(x,P(x),label='P(x)')\n",
    "\n",
    "plt.legend()\n",
    "plt.show()\n",
    "\n"
   ]
  },
  {
   "cell_type": "code",
   "execution_count": null,
   "metadata": {},
   "outputs": [],
   "source": []
  }
 ],
 "metadata": {
  "kernelspec": {
   "display_name": "Python 3",
   "language": "python",
   "name": "python3"
  },
  "language_info": {
   "codemirror_mode": {
    "name": "ipython",
    "version": 3
   },
   "file_extension": ".py",
   "mimetype": "text/x-python",
   "name": "python",
   "nbconvert_exporter": "python",
   "pygments_lexer": "ipython3",
   "version": "3.7.6"
  }
 },
 "nbformat": 4,
 "nbformat_minor": 4
}
