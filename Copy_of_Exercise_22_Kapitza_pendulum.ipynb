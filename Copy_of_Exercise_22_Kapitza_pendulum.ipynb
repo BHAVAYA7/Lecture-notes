{
  "cells": [
    {
      "cell_type": "markdown",
      "metadata": {
        "id": "view-in-github",
        "colab_type": "text"
      },
      "source": [
        "<a href=\"https://colab.research.google.com/github/BHAVAYA7/Lecture-notes/blob/main/Copy_of_Exercise_22_Kapitza_pendulum.ipynb\" target=\"_parent\"><img src=\"https://colab.research.google.com/assets/colab-badge.svg\" alt=\"Open In Colab\"/></a>"
      ]
    },
    {
      "cell_type": "markdown",
      "metadata": {
        "id": "K0X12hwlePBH"
      },
      "source": [
        "__Bhavay Arora__\n",
        "<br>\n",
        "Date: Mar. 8, 2023\n",
        "<br>\n",
        "PHYS 2030 W23\n",
        "\n",
        "__Rubric__ (100 points total):\n",
        "\n",
        "- Part (a) /__50 points__\n",
        "     \n",
        "- Part (b) /__50 points__"
      ]
    },
    {
      "cell_type": "markdown",
      "metadata": {
        "id": "zLamrxTzePBK"
      },
      "source": [
        "# <center><font color=#46769B>Exercise 22: Kapitza's pendulum</font></center>\n",
        "\n",
        "## <font color=#46769B>Introduction</font>\n",
        "\n",
        "The goals of this exercise are:\n",
        "- Gain further experience with RK4 methods for solving ODEs\n",
        "- Study a system of ODEs with interesting behavior\n",
        "\n",
        "Required reading:\n",
        "- *Lesson 8: Second-order methods*\n"
      ]
    },
    {
      "cell_type": "markdown",
      "metadata": {
        "id": "xiJhXT2mePBK"
      },
      "source": [
        "<font color=#46769B>Exercise</font>\n",
        "\n",
        "Kapitza's pendulum is a pendulum in which the pivot is attached to a motor that causes the pivot to move up and down. \n",
        "\n",
        "<div>\n",
        "<img src=\"https://github.com/PHYS-2030-Computational-Methods/Lecture-notes/raw/main/figures/KapitzaPendulumScheme.gif\" width=\"240\">\n",
        "</div>\n",
        "\n",
        "We assume that the vertical motion of the pivot is periodic, described by\n",
        "\n",
        "$$y(t) = A \\, \\cos(\\nu t)$$\n",
        "\n",
        "where $A$ is the amplitude and $\\nu$ is the angular frequency of the pivot's motion up and down. Recalling that the formula for torque is $\\tau = F \\ell \\sin(\\theta)$, where $F = m y''(t)$ is the force due to the pivot's motion on the pendulum arm and $\\theta$ is the relative angle between the pendulum and the vertical, we arrive an equation of motion:\n",
        "\n",
        "$$\\theta''(t) + \\omega^2 \\sin(\\theta(t)) + A \\nu^2 \\cos(\\nu t) \\sin(\\theta(t)) = 0\\, . \\qquad (1)$$\n",
        "\n",
        "The usual simple pendulum (recoved by setting $A=0$ above) has two equilibrium positions:\n",
        "- Stable equilibrium point at $\\theta=0$ (hanging straight down). A small push away from $\\theta=0$ will lead to small oscillations around the point $\\theta=0$.\n",
        "- Unstable equilibrium point at $\\theta = \\pi$ (pointing straight up). An arbitrarily small push away from $\\theta=\\pi$ will lead to a large displacement.\n",
        "\n",
        "The unusual feature of Kapitsa's pendulum is that a rapid driving force can cause the unstable point at $\\theta=\\pi$ *to become stable*. Here are one [video](https://www.youtube.com/watch?v=cjGqxF79ITI) and another [video](https://www.youtube.com/watch?v=GgYABmG_bto) that illustrate this phenomenon in action. (Some further links for the interested reader are [here](https://gereshes.com/2019/02/25/kapitzas-pendulum/) and [here](https://en.wikipedia.org/wiki/Kapitza%27s_pendulum).)\n",
        "\n",
        "## <font color=#46769B>Part (a)</font>\n",
        "\n",
        "Consider the following parameters:\n",
        "\n",
        "$$\\omega = 2\\pi , \\quad A = 0.1, \\quad \\nu = 100$$\n",
        "\n",
        "Your tasks are as follows:\n",
        "- Write a code to solve Kapitza's pendulum for the initial condition\n",
        "$$ \\theta(0) = 3, \\quad \\theta'(0) = 0 \\, .$$\n",
        "over the time interval $[0,10]$. Use the RK4 method (described in Lesson 10) to solve Eq. (1). Your results should do the convergence checking step, until your code has converged to within a tolerance of `atol=rtol=1e-2`.\n",
        "- Make a plot showing $\\theta(t)$ vs $t$ for Kapitsa's pendulum. Show also in the same plot, $\\theta(t)$ vs $t$ for the simple pendulum with the same initial condition (i.e., solving the same ODE but with $A=0$). Include a legend and axes labels for your plot.\n",
        "- What is your conclusion about whether $\\theta=\\pi$ is stable or unstable?\n",
        "- Make a __phase portrait__ plot of $\\theta'(t)$ vs $\\theta(t)$ for both Kapitsa's pendulum and the simple pendulum (in separate plots). This plot is a nice way to visualize both position and velocity of a trajectory. It is easy to implement from your numerical solutions. Suppose your solutions are saved in a `numpy.array` named `y`, which has size $(N+1) \\times 2$. Then you simply do:\n",
        "```py\n",
        "theta = y[:,0]\n",
        "theta_prime = y[:,1]\n",
        "plt.plot(theta,theta_prime)\n",
        "```\n",
        "since recall $\\mathbf{y} = (\\theta,\\theta^\\prime)$. Be sure to make your plot a square shape using the `figsize` keyword.\n",
        "\n",
        "Feel free to use `scipy.integrate.solve_ivp` to check your numerical results, but it is not mandatory.\n",
        "\n"
      ]
    },
    {
      "cell_type": "code",
      "execution_count": null,
      "metadata": {
        "id": "TYD2cKzOePBM",
        "colab": {
          "base_uri": "https://localhost:8080/",
          "height": 282
        },
        "outputId": "bfa69e57-88a4-436f-e1bd-e2e6a5b71bbc"
      },
      "outputs": [
        {
          "output_type": "execute_result",
          "data": {
            "text/plain": [
              "[<matplotlib.lines.Line2D at 0x7f4970048dc0>]"
            ]
          },
          "metadata": {},
          "execution_count": 3
        },
        {
          "output_type": "display_data",
          "data": {
            "text/plain": [
              "<Figure size 432x288 with 1 Axes>"
            ],
            "image/png": "[encoded data removed]"
          },
          "metadata": {
            "needs_background": "light"
          }
        }
      ],
      "source": [
        "from numpy.core.multiarray import array\n",
        "import numpy as np\n",
        "import matplotlib.pyplot as plt\n",
        "\n",
        "omega = 2*np.pi\n",
        "t0, tf = 0, 10\n",
        "\n",
        "nu = 100\n",
        "A = 0.1\n",
        "\n",
        "theta0 = 3\n",
        "\n",
        "# Your code here\n",
        "N = 1000\n",
        "h = tf/N\n",
        "\n",
        "def f(t,u):\n",
        "    return ((-omega**2 * np.sin(u)) + ((A * nu**2 * np.cos(nu*t)) * np.sin(u)))\n",
        "\n",
        "u = np.zeros(N+1)\n",
        "t = np.linspace(t0, tf, N+1)\n",
        "u[0] = theta0\n",
        "\n",
        "for i in range (N):\n",
        "# Rk4 step in the loop\n",
        "    k1 = f(t[i],u[i])\n",
        "    k2 = f(t[i] +h/2, u[i] + k1*h/2)\n",
        "    k3 = f(t[i] +h/2, u[i] + k2*h/2)\n",
        "    k4 = f(t[i]+h, u[i] + k3*h)\n",
        "    k = (k1 + 2*k2 + 2*k3 + k4) / 6\n",
        "    u[i+1] = u[i] + h*k\n",
        "\n",
        "plt.plot(t,u)"
      ]
    },
    {
      "cell_type": "code",
      "source": [
        "from numpy.core.multiarray import array\n",
        "import numpy as np\n",
        "import matplotlib.pyplot as plt\n",
        "\n",
        "\n",
        "omega = 2*np.pi\n",
        "t0, tf = 0, 10\n",
        "\n",
        "nu = 100\n",
        "A = 0.1\n",
        "\n",
        "theta0 = 3\n",
        "\n",
        "# Your code here\n",
        "N = 1000\n",
        "\n",
        "h = tf/N\n",
        "\n",
        "def f(t,y):\n",
        "    y1, y2 = y\n",
        "    return np.array ([y2, ((-omega**2 * np.sin(y1)) + (A * nu**2 * np.cos(nu*t)) * np.sin(y1))])\n",
        "\n",
        "def rk4_step(t,y,f,h):\n",
        "    y = np.zeros((N+1, 2))\n",
        "    t = np.linspace(t0, tf, N+1)\n",
        "    y[0] = [theta0, 0]\n",
        "\n",
        "    for i in range (N):\n",
        "        k1 = f(t[i],y[i])\n",
        "        k2 = f(t[i] +h/2, y[i] + k1*h/2)\n",
        "        k3 = f(t[i] +h/2, y[i] + k2*h/2)\n",
        "        k4 = f(t[i]+h, y[i] + k3*h)\n",
        "        k = (k1 + 2*k2 + 2*k3 + k4) / 6\n",
        "        y[i+1] = y[i] + h*k\n",
        " \n",
        "    return(y)\n",
        "\n",
        "\n",
        "\n",
        "# Performing the convergence test\n",
        "y_org = y\n",
        "\n",
        "converged = False\n",
        "\n",
        "while not (converged):\n",
        "    N = N * 2\n",
        "\n",
        "    print(\"Not converged yet, trying again with \",N, \" steps\")\n",
        "\n",
        "    y_con = rk4_step(t,y,f,h)\n",
        "\n",
        "    converged = np.allclose(y_org,y_con[::2],atol= 1e-2,rtol=1e-2 )\n",
        "    y_org = y_con\n",
        "\n",
        "print(\"Now converged at \",N,\" steps\")"
      ],
      "metadata": {
        "id": "FaWmgl_RvtnS",
        "colab": {
          "base_uri": "https://localhost:8080/",
          "height": 600
        },
        "outputId": "3e178786-8758-46c5-f397-761bd715241c"
      },
      "execution_count": null,
      "outputs": [
        {
          "output_type": "stream",
          "name": "stdout",
          "text": [
            "Not converged yet, trying again with  2000  steps\n",
            "Not converged yet, trying again with  4000  steps\n",
            "Not converged yet, trying again with  8000  steps\n",
            "Not converged yet, trying again with  16000  steps\n",
            "Not converged yet, trying again with  32000  steps\n",
            "Not converged yet, trying again with  64000  steps\n",
            "Not converged yet, trying again with  128000  steps\n",
            "Not converged yet, trying again with  256000  steps\n",
            "Not converged yet, trying again with  512000  steps\n",
            "Not converged yet, trying again with  1024000  steps\n",
            "Not converged yet, trying again with  2048000  steps\n",
            "Not converged yet, trying again with  4096000  steps\n",
            "Not converged yet, trying again with  8192000  steps\n",
            "Not converged yet, trying again with  16384000  steps\n"
          ]
        },
        {
          "output_type": "error",
          "ename": "KeyboardInterrupt",
          "evalue": "ignored",
          "traceback": [
            "\u001b[0;31m---------------------------------------------------------------------------\u001b[0m",
            "\u001b[0;31mKeyboardInterrupt\u001b[0m                         Traceback (most recent call last)",
            "\u001b[0;32m<ipython-input-51-5dfafac6f7ec>\u001b[0m in \u001b[0;36m<module>\u001b[0;34m\u001b[0m\n\u001b[1;32m     48\u001b[0m     \u001b[0mprint\u001b[0m\u001b[0;34m(\u001b[0m\u001b[0;34m\"Not converged yet, trying again with \"\u001b[0m\u001b[0;34m,\u001b[0m\u001b[0mN\u001b[0m\u001b[0;34m,\u001b[0m \u001b[0;34m\" steps\"\u001b[0m\u001b[0;34m)\u001b[0m\u001b[0;34m\u001b[0m\u001b[0;34m\u001b[0m\u001b[0m\n\u001b[1;32m     49\u001b[0m \u001b[0;34m\u001b[0m\u001b[0m\n\u001b[0;32m---> 50\u001b[0;31m     \u001b[0my_con\u001b[0m \u001b[0;34m=\u001b[0m \u001b[0mrk4_step\u001b[0m\u001b[0;34m(\u001b[0m\u001b[0mt\u001b[0m\u001b[0;34m,\u001b[0m\u001b[0my\u001b[0m\u001b[0;34m,\u001b[0m\u001b[0mf\u001b[0m\u001b[0;34m,\u001b[0m\u001b[0mh\u001b[0m\u001b[0;34m)\u001b[0m\u001b[0;34m\u001b[0m\u001b[0;34m\u001b[0m\u001b[0m\n\u001b[0m\u001b[1;32m     51\u001b[0m \u001b[0;34m\u001b[0m\u001b[0m\n\u001b[1;32m     52\u001b[0m     \u001b[0mconverged\u001b[0m \u001b[0;34m=\u001b[0m \u001b[0mnp\u001b[0m\u001b[0;34m.\u001b[0m\u001b[0mallclose\u001b[0m\u001b[0;34m(\u001b[0m\u001b[0my_org\u001b[0m\u001b[0;34m,\u001b[0m\u001b[0my_con\u001b[0m\u001b[0;34m[\u001b[0m\u001b[0;34m:\u001b[0m\u001b[0;34m:\u001b[0m\u001b[0;36m2\u001b[0m\u001b[0;34m]\u001b[0m\u001b[0;34m,\u001b[0m\u001b[0matol\u001b[0m\u001b[0;34m=\u001b[0m \u001b[0;36m1e-2\u001b[0m\u001b[0;34m,\u001b[0m\u001b[0mrtol\u001b[0m\u001b[0;34m=\u001b[0m\u001b[0;36m1e-2\u001b[0m \u001b[0;34m)\u001b[0m\u001b[0;34m\u001b[0m\u001b[0;34m\u001b[0m\u001b[0m\n",
            "\u001b[0;32m<ipython-input-51-5dfafac6f7ec>\u001b[0m in \u001b[0;36mrk4_step\u001b[0;34m(t, y, f, h)\u001b[0m\n\u001b[1;32m     31\u001b[0m         \u001b[0mk3\u001b[0m \u001b[0;34m=\u001b[0m \u001b[0mf\u001b[0m\u001b[0;34m(\u001b[0m\u001b[0mt\u001b[0m\u001b[0;34m[\u001b[0m\u001b[0mi\u001b[0m\u001b[0;34m]\u001b[0m \u001b[0;34m+\u001b[0m\u001b[0mh\u001b[0m\u001b[0;34m/\u001b[0m\u001b[0;36m2\u001b[0m\u001b[0;34m,\u001b[0m \u001b[0my\u001b[0m\u001b[0;34m[\u001b[0m\u001b[0mi\u001b[0m\u001b[0;34m]\u001b[0m \u001b[0;34m+\u001b[0m \u001b[0mk2\u001b[0m\u001b[0;34m*\u001b[0m\u001b[0mh\u001b[0m\u001b[0;34m/\u001b[0m\u001b[0;36m2\u001b[0m\u001b[0;34m)\u001b[0m\u001b[0;34m\u001b[0m\u001b[0;34m\u001b[0m\u001b[0m\n\u001b[1;32m     32\u001b[0m         \u001b[0mk4\u001b[0m \u001b[0;34m=\u001b[0m \u001b[0mf\u001b[0m\u001b[0;34m(\u001b[0m\u001b[0mt\u001b[0m\u001b[0;34m[\u001b[0m\u001b[0mi\u001b[0m\u001b[0;34m]\u001b[0m\u001b[0;34m+\u001b[0m\u001b[0mh\u001b[0m\u001b[0;34m,\u001b[0m \u001b[0my\u001b[0m\u001b[0;34m[\u001b[0m\u001b[0mi\u001b[0m\u001b[0;34m]\u001b[0m \u001b[0;34m+\u001b[0m \u001b[0mk3\u001b[0m\u001b[0;34m*\u001b[0m\u001b[0mh\u001b[0m\u001b[0;34m)\u001b[0m\u001b[0;34m\u001b[0m\u001b[0;34m\u001b[0m\u001b[0m\n\u001b[0;32m---> 33\u001b[0;31m         \u001b[0mk\u001b[0m \u001b[0;34m=\u001b[0m \u001b[0;34m(\u001b[0m\u001b[0mk1\u001b[0m \u001b[0;34m+\u001b[0m \u001b[0;36m2\u001b[0m\u001b[0;34m*\u001b[0m\u001b[0mk2\u001b[0m \u001b[0;34m+\u001b[0m \u001b[0;36m2\u001b[0m\u001b[0;34m*\u001b[0m\u001b[0mk3\u001b[0m \u001b[0;34m+\u001b[0m \u001b[0mk4\u001b[0m\u001b[0;34m)\u001b[0m \u001b[0;34m/\u001b[0m \u001b[0;36m6\u001b[0m\u001b[0;34m\u001b[0m\u001b[0;34m\u001b[0m\u001b[0m\n\u001b[0m\u001b[1;32m     34\u001b[0m         \u001b[0my\u001b[0m\u001b[0;34m[\u001b[0m\u001b[0mi\u001b[0m\u001b[0;34m+\u001b[0m\u001b[0;36m1\u001b[0m\u001b[0;34m]\u001b[0m \u001b[0;34m=\u001b[0m \u001b[0my\u001b[0m\u001b[0;34m[\u001b[0m\u001b[0mi\u001b[0m\u001b[0;34m]\u001b[0m \u001b[0;34m+\u001b[0m \u001b[0mh\u001b[0m\u001b[0;34m*\u001b[0m\u001b[0mk\u001b[0m\u001b[0;34m\u001b[0m\u001b[0;34m\u001b[0m\u001b[0m\n\u001b[1;32m     35\u001b[0m \u001b[0;34m\u001b[0m\u001b[0m\n",
            "\u001b[0;31mKeyboardInterrupt\u001b[0m: "
          ]
        }
      ]
    },
    {
      "cell_type": "code",
      "source": [],
      "metadata": {
        "id": "xwbIrtnmqQBw"
      },
      "execution_count": null,
      "outputs": []
    },
    {
      "cell_type": "code",
      "source": [],
      "metadata": {
        "id": "lg8iRWW8peoa"
      },
      "execution_count": null,
      "outputs": []
    },
    {
      "cell_type": "code",
      "source": [
        "\n",
        "for i in range (N):\n",
        "    ti = t[i]\n",
        "    ui = u[i]\n",
        "    k1 = f(ti,ui)\n",
        "    k2 = f(ti +h/2, ui + k1*h/2)\n",
        "    k3 = f(ti +h/2, ui + k2*h/2)\n",
        "    k4 = f(ti + h, ui + k3*h)\n",
        "    k = (k1 + 2*k2 + 2*k3 + k4) / 6\n",
        "    u = ui + h*k"
      ],
      "metadata": {
        "id": "qfvOTbIGdPhz"
      },
      "execution_count": null,
      "outputs": []
    },
    {
      "cell_type": "markdown",
      "metadata": {
        "id": "3QOq4AdUePBO"
      },
      "source": [
        "## <font color=#46769B>Part (b)</font>\n",
        "\n",
        "  In Part (a), you noticed that Kapitza's pendulum seems to oscillate around an equilibrium $\\theta_{\\rm eq} = \\pi$, while the simple pendulum oscillates around $\\theta_{\\rm eq} = 0$. A simple way to see this more clearly is to include a damping term\n",
        "\n",
        "$$\\theta''(t) + \\gamma \\theta'(t) + \\omega^2 \\sin(\\theta(t)) + A \\nu^2 \\cos(\\nu t) \\sin(\\theta(t)) = 0\\, \\qquad (2)$$\n",
        "\n",
        "and seeing where the pendulum ends up after its motion has been damped away, i.e., \n",
        "\n",
        "$$\\theta(t_f) \\approx \\theta_{\\rm eq} \\, .$$\n",
        "\n",
        "Here set $\\gamma = 1$ and consider the same time interval $[0,10]$. The initial condition will be\n",
        "\n",
        "$$\\theta(0) = \\theta_0, \\quad \\theta'(0) = 0 \\, .$$\n",
        "\n",
        "Keeping other inputs fixed as in Part (a), perform the following tasks:\n",
        "- Determine the value of $\\theta_{\\rm eq}$ as a function of the initial displacement $\\theta_0$, for a list of initial values `theta0_list = numpy.linspace(0.1,3.1,num=31)`. Make a plot of $\\theta_{\\rm eq}$ as a function of the $\\theta_0$ values. You should find that below a certain critical value, $\\theta_0^{\\rm crit}$, Kapitza's pendulum relaxes to $\\theta_{\\rm eq} = 0$, while above $\\theta_0^{\\rm crit}$ it relaxes to $\\theta_{\\rm eq} = \\pi$. Determine $\\theta_{0}^{\\rm crit}$.\n",
        "\n",
        "Does $\\theta_{0}^{\\rm crit}$ change if you shake the pendulum harder (increasing $A$) or faster (increasing $\\nu$)? You just need to be qualitative here:\n",
        "- Repeat the above steps to determine $\\theta_0^{\\rm crit}$ with all inputs as above but changing $A = 1$ (and $\\nu = 100$).\n",
        "- Repeat the above steps to determine $\\theta_0^{\\rm crit}$ with all inputs as above but changing $\\nu = 300$ (and $A = 0.1$).\n",
        "- Make plots of $\\theta_{\\rm eq}$ as a function of the $\\theta_0$ values for the different inputs here.\n",
        "\n",
        "Feel free to use `scipy.integrate.solve_ivp` to check your numerical results, but it is not mandatory. Note if you do use `solve_ivp`, it may be useful to increase the tolerance settings by adding thse keywords, e.g., `atol=1e-10, rtol=1e-10`.\n",
        "\n"
      ]
    },
    {
      "cell_type": "code",
      "execution_count": null,
      "metadata": {
        "id": "4nLED4WQePBP"
      },
      "outputs": [],
      "source": [
        "# Your code here"
      ]
    }
  ],
  "metadata": {
    "kernelspec": {
      "display_name": "Python 3",
      "language": "python",
      "name": "python3"
    },
    "language_info": {
      "codemirror_mode": {
        "name": "ipython",
        "version": 3
      },
      "file_extension": ".py",
      "mimetype": "text/x-python",
      "name": "python",
      "nbconvert_exporter": "python",
      "pygments_lexer": "ipython3",
      "version": "3.7.6"
    },
    "colab": {
      "provenance": [],
      "include_colab_link": true
    }
  },
  "nbformat": 4,
  "nbformat_minor": 0
}