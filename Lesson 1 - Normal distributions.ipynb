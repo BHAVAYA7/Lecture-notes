{
 "cells": [
  {
   "cell_type": "markdown",
   "metadata": {},
   "source": [
    "Author: Sean Tulin\n",
    "<br>\n",
    "Date: Jan. 10, 2022\n",
    "<br>\n",
    "PHYS 2030 W22"
   ]
  },
  {
   "cell_type": "markdown",
   "metadata": {},
   "source": [
    "# <center><font color=#46769B>Lesson 1: Normal distributions</font></center>\n",
    "\n",
    "## <font color=#46769B>Introduction:</font>\n",
    "The first section of this course will deal with __Monte Carlo methods__. Monte Carlo methods are a tool that uses *random sampling* to compute quantities where analytic methods may be very complicated or impossible. (It is named after the famous casino in Monaco.) This is not a course on probabilities and statistics. However, we will borrow many concepts from these topics.\n",
    "\n",
    "Our goals for this lesson are:\n",
    "- Introduce the __probability distribution function__ (PDF).\n",
    "- Introduce __normal__ or __Gaussian distributions__, which are examples of PDFs that are used widely in the sciences and related fields.\n",
    "- Learn some basics of using `numpy` and `matplotlib.pyplot`\n",
    "- Learn how to sample from normal and uniform distributions using `numpy`"
   ]
  },
  {
   "cell_type": "markdown",
   "metadata": {},
   "source": [
    "## <font color=#46769B>Probability distribution functions (PDFs)</font>\n",
    "\n",
    "Suppose we want to measure a quantity $x$, the PDF is a function $P(x)$ that tells us how likely it is to obtain a given value of $x$. \n",
    "\n",
    "### <font color=#46769B>Discrete distributions</font>\n",
    "\n",
    "For a *discrete* PDF, $x$ can take only certain discrete values. \n",
    "One example is flipping a coin: either we have heads ($x=1$), with probability $p$, or tails ($x=0$), with probability $1-p$, where $0 \\le p \\le 1$. (If it is a fair coin, then $p=0.5$.)\n",
    "The PDF encodes the probability for each value of $x$:\n",
    "$$P(x) = \\left\\{ \\begin{array}{cc} p & {\\rm for}\\; x=1 \\\\ 1-p & {\\rm for}\\; x=0 \\end{array} \\right. \\, .$$ \n",
    "This PDF is also known as *Bernoulli distribution*.\n",
    "\n",
    "If we know the PDF, we can compute the mean value of $x$, denoted $\\mu$, and the standard deviation of $x$, denoted $\\sigma$.\n",
    "For the coin flip, the mean value is\n",
    "$$\\mu = \\sum_x P(x) \\, x = p \\times 1 + (1-p) \\times 0 = p \\, ,$$\n",
    "which for a fair coin gives $\\mu=0.5$ as expected.\n",
    "To calculate the standard deviation, we first calculate the variance $\\sigma^2$:\n",
    "$$\\sigma^2 = \\sum_x P(x) \\, (x - \\mu)^2 \n",
    "= p \\times (1-p)^2 + (1-p)\\times (0-p)^2 = p(1-p)\\, . $$\n",
    "The *standard deviation* is the square root of the variance<font color=red>$^1$</font>\n",
    "$$\\sigma = \\sqrt{\\sigma^2} = \\sqrt{p(1-p)} \\, .$$\n",
    "For a fair coin $\\sigma = 0.5$, which makes sense since the typical values of $x=0$ or $x=1$ are all $0.5$ away from the mean value $\\mu=0.5$.\n",
    "\n",
    "### <font color=#46769B>Continuous distributions</font>\n",
    "\n",
    "For a *continuous* PDF, $x$ can on a continuum of values.\n",
    "We consider that $x$ can take any value over an infinite domain $-\\infty < x < \\infty$, but it is also possible that the domain is bounded in some way (e.g., $0 \\le x \\le \\infty$ or $-1 \\le x \\le 1$).\n",
    "Here $P(x)$ is the probability *density*. This means that $P(x) \\, dx$ is the probability to measure $x$ between $x$ and $x + dx$. \n",
    "In other words, the probability that $a \\le x \\le b$ is given by an integral $\\int_a^b P(x) \\, dx$.\n",
    "\n",
    "Now we can compute the mean and variance.\n",
    "These are:\n",
    "$$\\mu = \\int_{-\\infty}^{\\infty} dx \\, P(x) \\, x$$\n",
    "$$\\sigma^2 = \\int_{-\\infty}^{\\infty} dx \\, P(x) \\, (x-\\mu)^2\\, .$$ \n",
    "As usual, the standard deviation is the square root of the variance: $\\sigma = \\sqrt{\\sigma^2}$.\n",
    "\n",
    "### <font color=#46769B>Requirements on PDFs</font>\n",
    "\n",
    "PDFs have to satisfy some intuitive requirements:\n",
    "- Probabilities cannot be negative quantities, so $P(x) \\ge 0$ for any value of $x$.\n",
    "- The total probability to measure *any* value of the $x$ must be unity, i.e., 100\\%. For a discrete distribution\n",
    "$$\\sum_x P(x) = 1\\, ,$$\n",
    "or for a continuous distribution\n",
    "$$\\int_{-\\infty}^{\\infty} P(x) = 1 \\, .$$\n",
    "\n",
    "\n",
    "### <font color=#46769B>Footnotes:</font>\n",
    "<font color=red>$^1$</font> Although $\\sigma$ has a special meaning as the standard deviation, it is really the variance $\\sigma^2$ that is the fundamental parameter. To calculate the standard deviation, you *always calculate the variance and take the square root*. You might try a direct calculation of $\\sigma$ as\n",
    "$$\\sigma = \\sum_x P(x) \\, (x - \\mu)$$\n",
    "but this is __wrong__ and yields $\\sigma = \\mu - \\mu = 0$.\n",
    "\n"
   ]
  },
  {
   "cell_type": "markdown",
   "metadata": {},
   "source": [
    "## <font color=#46769B>Normal distributions</font>\n",
    "\n",
    "A *normal* or *Gaussian distribution* of one variable is a continuous distribution described by the function\n",
    "$$\\mathcal{N}(x) = \\frac{1}{\\sqrt{2\\pi \\sigma^2}} e^{- \\frac{(x-\\mu)^2}{2\\sigma^2}} \\, .$$\n",
    "Appropriately, the parameters $\\mu$ and $\\sigma$ that appear here are the mean and standard deviation of this distribution. (We will prove this in a moment.) \n",
    "We will use $\\mathcal{N}(x)$ instead of $P(x)$ to denote a normal PDF, and sometimes we will write $\\mathcal{N}(\\mu,\\sigma)$ to denote *a normal distribution centered at $\\mu$ with standard deviation $\\sigma$*.\n",
    "\n",
    "The shape of $\\mathcal{N}$ is the familiar bell curve. Let's plot it. If you like, you can change $\\mu,\\sigma$ to see what effect this has on the shape."
   ]
  },
  {
   "cell_type": "code",
   "execution_count": 11,
   "metadata": {},
   "outputs": [
    {
     "data": {
      "image/png": "[encoded data removed]",
      "text/plain": [
       "<Figure size 432x288 with 1 Axes>"
      ]
     },
     "metadata": {
      "needs_background": "light"
     },
     "output_type": "display_data"
    }
   ],
   "source": [
    "import numpy as np\n",
    "import matplotlib.pyplot as plt\n",
    "\n",
    "mu = 0\n",
    "sigma = 1\n",
    "\n",
    "x = np.linspace(-5,5,num=200)\n",
    "N = 1/np.sqrt(2*np.pi*sigma**2) * np.exp(-0.5*(x-mu)**2/sigma**2)\n",
    "\n",
    "plt.plot(x,N)\n",
    "plt.xlim([-5,5])\n",
    "plt.ylim([0,1])\n",
    "plt.show()"
   ]
  },
  {
   "cell_type": "markdown",
   "metadata": {},
   "source": [
    "### <font color=#46769B>Gaussian integrals</font>\n",
    "\n",
    "We will now prove three facts about $\\mathcal{N}(x)$:\n",
    "- That our Gaussian function is normalized to unity:\n",
    "$$\\int_{-\\infty}^{\\infty} dx \\, \\mathcal{N}(x) = 1 \\qquad {\\rm (1)} $$ \n",
    "- That the mean of our Gaussian function is $\\mu$:\n",
    "$$\\int_{-\\infty}^{\\infty} dx \\, x \\, \\mathcal{N}(x) = \\mu \\qquad {\\rm (2)} $$\n",
    "- That the standard deviation of our Gaussian function is $\\sigma$:\n",
    "$$\\int_{-\\infty}^{\\infty} dx \\, (x-\\mu)^2 \\, \\mathcal{N}(x) = \\sigma^2  \\qquad {\\rm (3)} $$\n",
    "\n",
    "All three boil down to being able to perform various integrals of a Gaussian. This involves some mathematical ninja skills that you may not have seen before.\n",
    "\n",
    "#### <font color=#46769B>The basic integral</font>\n",
    "\n",
    "Let's calculate the integral $I = \\int_{-\\infty}^{\\infty} dx \\, e^{-x^2/2}$. The trick is to calculate $I^2$:\n",
    "$$I^2 = \\left( \\int_{-\\infty}^{\\infty} dx \\, e^{-x^2/2} \\right) \\times \\left( \\int_{-\\infty}^{\\infty} dy \\, e^{-y^2/2} \\right)$$\n",
    "where in the second term the integration variable is labeled $y$ so we don't get confused with the first integration variable $x$. We can group the integrations together as\n",
    "$$I^2 = \\int_{-\\infty}^{\\infty} dx \\int_{-\\infty}^{\\infty} dy \\, e^{-\\frac{x^2 + y^2}{2}}\\, .$$\n",
    "Now it looks like we are doing an integral over the 2D $x$-$y$ plane in Cartesian coordinates. Let's change to polar coordinates: $x = r \\cos\\theta$ and $y=r \\sin\\theta$, where $r = \\sqrt{x^2 + y^2}$. We need to recall that the area element is\n",
    "$$dx \\, dy = r \\, dr \\, d\\theta\\, .$$\n",
    "Now we have\n",
    "$$I^2 = \\int_0^\\infty r \\, dr \\int_0^{2\\pi} d\\theta \\, e^{-r^2/2} \n",
    "= 2\\pi \\, ,$$\n",
    "where the $\\theta$ integral gives (trivially) $\\int_0^{2\\pi} d\\theta = 2\\pi$ and the $r$ can be done with a substitution $u = \\frac{1}{2}r^2$, which yields $\\int_0^\\infty dr \\, r\\, e^{-r^2/2} = \\int_0^\\infty du \\, e^{-u} = 1$. Our final result is $I = \\sqrt{2\\pi}$.\n",
    "\n",
    "#### <font color=#46769B>The general integral</font>\n",
    "\n",
    "Let's calculate the integral $\\int_{-\\infty}^{\\infty} dx \\, e^{-\\frac{(x-\\mu)^2}{2\\sigma^2}}$. If we define a new variable $u = (x-\\mu)/\\sigma$, then $dx = \\sigma \\, du$. The integral we want to calculate is now\n",
    "$$\\int_{-\\infty}^{\\infty} dx \\, e^{-\\frac{(x-\\mu)^2}{2\\sigma^2}} = \\sigma \\int_{-\\infty}^{\\infty} du \\, e^{-\\frac{u^2}{2}} = \\sigma \\sqrt{2\\pi}\\, ,$$\n",
    "recognizing the integral $I$ as we had above (now an integral over $u$ instead of $x$).\n",
    "Dividing by both sides by $\\sqrt{2\\pi\\sigma^2}$ allows us to prove assertion (1).\n",
    "\n",
    "Without much extra work, we can prove assertion (2). With the same $u$-substitution, we have\n",
    "$$\\int_{-\\infty}^{\\infty} dx \\, x \\, e^{-\\frac{(x-\\mu)^2}{2\\sigma^2}} = \\sigma \\int_{-\\infty}^{\\infty} du \\, (\\mu + u \\sigma) \\, e^{-\\frac{u^2}{2}} = \\sigma \\mu \\int_{-\\infty}^{\\infty} du \\, e^{-\\frac{u^2}{2}} + \\sigma^2 \\int_{-\\infty}^{\\infty} du \\, u \\, e^{-\\frac{u^2}{2}} = \\sigma \\mu \\sqrt{2\\pi}$$\n",
    "The second integral vanishes since $u \\, e^{-u^2/2}$ is an odd function integrated over an even domain, while the first term is just $I$. Dividing both sides by $\\sqrt{2\\pi \\sigma^2}$ completes the proof.\n",
    "\n",
    "#### <font color=#46769B>Differentiating under the integral</font>\n",
    "\n",
    "Proving assertion (3) requires a new trick. We already proved the following result:\n",
    "$$\\int_{-\\infty}^{\\infty} dx \\, e^{-\\frac{(x-\\mu)^2}{2\\sigma^2}}  = \\sqrt{2\\pi} \\sigma \\, .$$\n",
    "Now, we take the derivative of both sides *with respect to $\\sigma$*, which is a trick known as differentiating under the integral:\n",
    "$$\\frac{d}{d \\sigma} \\left( \\int_{-\\infty}^{\\infty} dx \\, e^{-\\frac{(x-\\mu)^2}{2\\sigma^2}}  \\right) = \\frac{d}{d \\sigma} \\left( \\sqrt{2\\pi} \\sigma \\right) \\, .$$\n",
    "This yields\n",
    "$$\\int_{-\\infty}^{\\infty} dx \\, \\frac{(x-\\mu)^2}{\\sigma^3} \\, e^{-\\frac{(x-\\mu)^2}{2\\sigma^2}}   =  \\sqrt{2\\pi} \\, .$$\n",
    "Multiplying through by $\\sigma^2/\\sqrt{2\\pi}$ allows us to prove assertion (3).\n",
    "\n"
   ]
  },
  {
   "cell_type": "markdown",
   "metadata": {},
   "source": [
    "## <font color=#46769B>Random sampling from a normal distribution</font>\n",
    "\n",
    "It is easy to take samples from a normal distribution using `numpy`'s built-in (pseudo-)random number generator. (We won't discuss how such numbers are generated.) The syntax\n",
    "```py\n",
    "arr = numpy.random.normal(mu,sigma,num)\n",
    "```\n",
    "will create a `numpy.array` named `arr` of length `num` with randomly-generated entries. You can read more here: \n",
    "\n",
    "https://numpy.org/doc/stable/reference/random/generated/numpy.random.normal.html\n",
    "\n",
    "What does it mean to draw random samples from a distribution $P(x)$? If we make a histogram of our samples, it will approximate $P(x)$. We will use `matplotlib.pyplot.hist` to make histogram plots and you can read about this function here:\n",
    "\n",
    "https://matplotlib.org/stable/api/_as_gen/matplotlib.pyplot.hist.html\n",
    "\n",
    "One essential part of using `matplotlib.pyplot.hist` is setting a keyword argument `density=True` which will rescale the histogram to make the total area equal to unity, i.e., that the total probability is equal to one.\n",
    "\n",
    "Let's see how this works. Below, you can explore how different inputs affect your results:\n",
    "- Change the inputs `mu` and `sigma` to vary the location and width of the distribution\n",
    "- Increase the size of your sample. Typically this should be *much* larger than the value `num=100` I chose.\n",
    "- Increase the number of bins in the histgram from the value I chose, `bins=10`."
   ]
  },
  {
   "cell_type": "code",
   "execution_count": 15,
   "metadata": {},
   "outputs": [
    {
     "data": {
      "image/png": "[encoded data removed]",
      "text/plain": [
       "<Figure size 432x288 with 1 Axes>"
      ]
     },
     "metadata": {
      "needs_background": "light"
     },
     "output_type": "display_data"
    }
   ],
   "source": [
    "import numpy as np\n",
    "import matplotlib.pyplot as plt\n",
    "\n",
    "# Define our parameters\n",
    "mu = 1\n",
    "sigma = 3\n",
    "num = 100\n",
    "\n",
    "# Draw our samples\n",
    "arr = np.random.normal(mu,sigma,num)\n",
    "\n",
    "# Plot a histogram\n",
    "plt.hist(arr,bins=10,density=True,label='sampling')\n",
    "\n",
    "# Now let's compare to our Gaussian PDF\n",
    "x = np.linspace(-15,15)\n",
    "y = 1/np.sqrt(2*np.pi*sigma**2) * np.exp(-0.5*(x-mu)**2/sigma**2)\n",
    "plt.plot(x,y,label='normal dist.')\n",
    "\n",
    "plt.legend()\n",
    "plt.show()"
   ]
  },
  {
   "cell_type": "markdown",
   "metadata": {},
   "source": [
    "## <font color=#46769B>Monte Carlo samples and simulations</font>\n",
    "\n",
    "Some terminology we will use:\n",
    "- An *experiment* or *sample* is drawing one random value of $x$. The $i$th sample is denoted $x_i$.\n",
    "- A *simulation* (or *Monte Carlo simulation*) is where we perform the experiment $N$ times, where $N$ is typically a large number. The simulation yields a list of samples $(x_0, x_1, x_2, ..., x_{N-1})$.<font color=red>$^2$</font>\n",
    "\n",
    "The *mean* value of $x$ is\n",
    "$$\\langle x \\rangle = \\frac{1}{N} \\sum_{i=0}^{N-1} x_i \\, .$$\n",
    "The variance of $x$ is<font color=red>$^3$</font>\n",
    "$$\\Delta x^2 = \\frac{1}{N} \\sum_{i=0}^{N-1} \\left(x_i - \\langle x \\rangle \\right)^2 \\, ,$$\n",
    "and so the standard deviation is\n",
    "$$\\Delta x = \\sqrt{\\Delta x^2} = \\sqrt{ \\frac{1}{N} \\sum_{i=0}^{N-1} \\left(x_i - \\langle x \\rangle \\right)^2 } \\, .$$\n",
    "\n",
    "To clarify the notation, $\\langle x \\rangle$ and $\\Delta x$ are the mean value and standard deviation of *our samples* for $x$, while $\\mu$ and $\\sigma$ are the *true* mean value and standard deviation of the PDF.\n",
    "For fixed $N$, the values we compute for $\\langle x \\rangle$ and $\\Delta x$ depend on luck of the draw (and will be different if we repeat the simulation multiple times) and are not generally equal to $\\mu$ and $\\sigma$, respectively. \n",
    "Intuitively, however, we expect that these will agree for large $N$:\n",
    "$$\\langle x \\rangle \\xrightarrow{N \\to \\infty} \\mu \\, , \\qquad\n",
    "\\Delta x \\xrightarrow{N \\to \\infty} \\sigma \\, .$$\n",
    "We will return to this point in the next lecture, but for now let's take this at face value. Therefore, we always want to choose $N$ large enough so that $\\langle x\\rangle$ and $\\Delta x$ converge to a fixed value (to the desired level of accuracy) \n",
    "\n",
    "`numpy` has built-in functions for calculating means and standard deviations:\n",
    "```py\n",
    "numpy.mean(x)\n",
    "numpy.std(x)\n",
    "```\n",
    "Feel free to use these, or any other built-in `numpy` function where useful. (For simple tasks, it is always a good idea to check if there is already a `numpy` function before you reinvent the wheel.)\n",
    "\n",
    "### <font color=#46769B>Footnotes:</font>\n",
    "\n",
    "<font color=red>$^2$</font> Note since Python counting starts at zero, I will follow the same numbering conventions thoughout.\n",
    "\n",
    "<font color=red>$^3$</font> In statistical analysis, it is sometimes advocated that the $\\frac{1}{N}$ factor should be replaced with $\\frac{1}{N-1}$. Since we are not studying statistics of fixed samples and are always free to take $N$ large, these subtleties are irrelevant for our purposes."
   ]
  },
  {
   "cell_type": "code",
   "execution_count": 16,
   "metadata": {},
   "outputs": [
    {
     "name": "stdout",
     "output_type": "stream",
     "text": [
      "The mean of our samples is 1.4345113954316577\n",
      "The standard deviation of our samples is 3.1423196682370675\n"
     ]
    }
   ],
   "source": [
    "# Compute the mean and standard deviation from our samples\n",
    "\n",
    "import numpy as np\n",
    "import matplotlib.pyplot as plt\n",
    "\n",
    "# Define our parameters\n",
    "mu = 1\n",
    "sigma = 3\n",
    "num = 100\n",
    "\n",
    "# Draw our samples\n",
    "arr = np.random.normal(mu,sigma,num)\n",
    "\n",
    "print('The mean of our samples is', np.mean(arr))\n",
    "print('The standard deviation of our samples is', np.std(arr))"
   ]
  },
  {
   "cell_type": "markdown",
   "metadata": {},
   "source": [
    "Note you will get different results each time you run the above code, since different random numbers are being drawn each time. You want to choose $N$ large enough so that different simulations will yield identical results at the level of accuracy desired."
   ]
  },
  {
   "cell_type": "markdown",
   "metadata": {},
   "source": [
    "## <font color=#46769B>Related topics</font>\n",
    "\n",
    "The `numpy.random` module includes many more routines. Here is a link to the documentation:\n",
    "\n",
    "https://numpy.org/doc/stable/reference/random/index.html\n",
    "\n",
    "\n",
    "### <font color=#46769B>Uniform sampling</font>\n",
    "\n",
    "One important thing to know is how to generate a random number in the interval $[0,1]$, or more generally in the interval $[a,b]$. This is known as __uniform sampling__ since every value in the range is equally likely. \n",
    "\n",
    "Here is the syntax to generate a `numpy.array` with `num` random numbers between $[0,1]$:\n",
    "```py\n",
    "arr = numpy.random.rand(num)\n",
    "```\n",
    "We can generalize this to generate a `numpy.array` with `num` random numbers between $[a,b]$:\n",
    "```py\n",
    "arr = a + (b-a)*numpy.random.rand(num)\n",
    "```\n",
    "\n",
    "### <font color=#46769B>Uniform distribution</font>\n",
    "\n",
    "\"Pick a random number between $a$ and $b$\" is known as a __uniform distribution__. The probability density must be a uniform constant in the range $a < x < b$ (i.e., all values are equally likely) and zero otherwise. Mathematically, this is\n",
    "$$P(x) = \\left\\{ \\begin{array}{cc} \\frac{1}{b-a} & {\\rm for} \\; a < x < b \\\\ 0 & {\\rm otherwise} \\end{array} \\right. \\, .$$ \n",
    "The constant $1/(b-a)$ is determined by the fact that $\\int_{-\\infty}^{\\infty} dx \\, P(x) = 1$.\n",
    "\n",
    "Let's draw random samples from a uniform distribution and compare them to the uniform distribution. Feel free to change the parameters and increase the number of samples `num`."
   ]
  },
  {
   "cell_type": "code",
   "execution_count": 17,
   "metadata": {},
   "outputs": [
    {
     "data": {
      "image/png": "[encoded data removed]",
      "text/plain": [
       "<Figure size 432x288 with 1 Axes>"
      ]
     },
     "metadata": {
      "needs_background": "light"
     },
     "output_type": "display_data"
    }
   ],
   "source": [
    "import numpy as np\n",
    "import matplotlib.pyplot as plt\n",
    "\n",
    "# Define our parameters\n",
    "# Note: assumes a < b\n",
    "a = 1\n",
    "b = 3\n",
    "num = 100\n",
    "\n",
    "# Draw our samples\n",
    "arr = a + (b-a)*np.random.rand(num)\n",
    "\n",
    "# Plot a histogram\n",
    "plt.hist(arr,bins=10,density=True,label='sampling')\n",
    "\n",
    "# Now let's compare to our uniform distribution PDF\n",
    "x = np.linspace(0,5,num=500)\n",
    "\n",
    "# Calculate the PDF\n",
    "\n",
    "# First initialize y as an array of zeros of the same size as x\n",
    "y = np.zeros_like(x)\n",
    "\n",
    "# Next compute nonzero values using a for loop\n",
    "for i in range(len(x)):\n",
    "    \n",
    "    if (x[i] >= a) and (x[i] <= b):\n",
    "        y[i] = 1/(b-a)\n",
    "\n",
    "plt.plot(x,y,label='uniform dist.')\n",
    "\n",
    "plt.legend()\n",
    "plt.show()"
   ]
  },
  {
   "cell_type": "code",
   "execution_count": null,
   "metadata": {},
   "outputs": [],
   "source": []
  }
 ],
 "metadata": {
  "kernelspec": {
   "display_name": "Python 3",
   "language": "python",
   "name": "python3"
  },
  "language_info": {
   "codemirror_mode": {
    "name": "ipython",
    "version": 3
   },
   "file_extension": ".py",
   "mimetype": "text/x-python",
   "name": "python",
   "nbconvert_exporter": "python",
   "pygments_lexer": "ipython3",
   "version": "3.7.6"
  }
 },
 "nbformat": 4,
 "nbformat_minor": 4
}
